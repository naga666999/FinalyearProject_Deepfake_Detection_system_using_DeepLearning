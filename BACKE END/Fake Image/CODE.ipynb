{
 "cells": [
  {
   "cell_type": "code",
   "execution_count": 1,
   "metadata": {},
   "outputs": [
    {
     "name": "stdout",
     "output_type": "stream",
     "text": [
      "Num Gpu Avaiable Are : 1\n"
     ]
    }
   ],
   "source": [
    "import tensorflow as tf\n",
    "print(f\"Num Gpu Avaiable Are : {len(tf.config.list_physical_devices('GPU'))}\")"
   ]
  },
  {
   "cell_type": "code",
   "execution_count": 2,
   "metadata": {},
   "outputs": [],
   "source": [
    "# Importing necessary libraries for deep learning and image processing\n",
    "import numpy as np\n",
    "import pandas as pd\n",
    "import matplotlib.pyplot as plt\n",
    "# import seaborn as sns\n",
    "import cv2\n",
    "import os, glob\n",
    "import tensorflow as tf\n",
    "from tqdm import tqdm\n",
    "from sklearn.metrics import confusion_matrix\n",
    "from sklearn.model_selection import train_test_split\n",
    "from tensorflow.keras.models import Model, Sequential, load_model\n",
    "from tensorflow.keras.layers import Dense, Dropout, Flatten, Conv2D, MaxPool2D, BatchNormalization, AveragePooling2D,GlobalAveragePooling2D,Input\n",
    "from tensorflow.keras.optimizers import Adam\n",
    "from tensorflow.keras.preprocessing.image import ImageDataGenerator\n",
    "import warnings\n",
    "warnings.filterwarnings(\"ignore\",category=DeprecationWarning)\n"
   ]
  },
  {
   "cell_type": "code",
   "execution_count": 3,
   "metadata": {},
   "outputs": [
    {
     "name": "stdout",
     "output_type": "stream",
     "text": [
      "['Fake', 'Real']\n",
      "2\n"
     ]
    }
   ],
   "source": [
    "data_train = r\"./dataset/train\"\n",
    "data_test = r\"./dataset/test\"\n",
    "fake=[]\n",
    "for file in os.listdir(data_test):\n",
    "    if file[0] =='.':\n",
    "        continue\n",
    "    fake+=[file]\n",
    "print(fake)\n",
    "print(len(fake))"
   ]
  },
  {
   "cell_type": "code",
   "execution_count": 4,
   "metadata": {},
   "outputs": [
    {
     "name": "stdout",
     "output_type": "stream",
     "text": [
      "Found 64526 images belonging to 2 classes.\n",
      "Found 5474 images belonging to 2 classes.\n"
     ]
    }
   ],
   "source": [
    "# Setting up image data generators for training and testing datasets\n",
    "# Using data augmentation to prevent overfitting\n",
    "\n",
    "img_height,img_width=256,256\n",
    "batch_size=20\n",
    "\n",
    "# Generator for validation/test data\n",
    "train_datagen = ImageDataGenerator(rescale=1./255)\n",
    "\n",
    "# Load training datasets from directory\n",
    "train_generator = train_datagen.flow_from_directory(data_train, # Path to training data directory\n",
    "                                                target_size=(img_height,img_width), # Resize all images to 224x224\n",
    "                                                batch_size=batch_size,\n",
    "                                                class_mode='categorical', # classification (Fake vs Real)\n",
    "                                               )\n",
    "\n",
    "# Load testing datasets from directory\n",
    "test_generator = train_datagen.flow_from_directory(data_test, # Path to training data directory\n",
    "                                                target_size=(img_height,img_width), # Resize all images to 224x224\n",
    "                                                batch_size=batch_size,\n",
    "                                                class_mode='categorical', # classification (Fake vs Real)\n",
    "                                               )"
   ]
  },
  {
   "cell_type": "code",
   "execution_count": 5,
   "metadata": {},
   "outputs": [],
   "source": [
    "# These metrics help in evaluating the performance of the classification model.\n",
    "\n",
    "precision=tf.keras.metrics.Precision() # Precision metric calculates the ratio of correctly predicted positive observations to the total predicted positives.\n",
    "recall=tf.keras.metrics.Recall()  # Recall metric calculates the ratio of correctly predicted positive observations to all observations in actual class.\n",
    "\n",
    "# Here, the metric is computed at a specificity of 0.1 (10% True Negative Rate).\n",
    "sensitivity=tf.keras.metrics.SensitivityAtSpecificity(0.1) # Sensitivity is the ability of the model to identify true positives at a chosen specificity threshold.\n",
    "\n",
    "# Here, the metric is computed at a sensitivity of 0.1 (10% True Positive Rate).\n",
    "specificity=tf.keras.metrics.SpecificityAtSensitivity(0.1) # Specificity is the ability of the model to identify true negatives at a chosen sensitivity threshold."
   ]
  },
  {
   "cell_type": "code",
   "execution_count": null,
   "metadata": {},
   "outputs": [],
   "source": [
    "from sklearn.metrics import confusion_matrix\n",
    "\n",
    "def plot_confusion_matrix(y_true, y_pred, classes, normalize=False, title=None, cmap=plt.cm.Blues):\n",
    "    \"\"\"\n",
    "    This function prints and plots the confusion matrix.\n",
    "    Normalization can be applied by setting `normalize=True`.\n",
    "\n",
    "    Parameters:\n",
    "    - y_true: Array of true labels.\n",
    "    - y_pred: Array of predicted labels.\n",
    "    - classes: List of class names for labeling the matrix.\n",
    "    - normalize: Boolean, whether to apply normalization to the confusion matrix.\n",
    "    - title: Optional string to set the title of the plot.\n",
    "    - cmap: Colormap for visualizing the matrix.\n",
    "\n",
    "    Returns:\n",
    "    - ax: The axes object with the plot.\n",
    "    \"\"\"\n",
    "\n",
    "    # If no title is provided, set default based on normalization\n",
    "    if not title:\n",
    "        if normalize:\n",
    "            title = 'Normalized confusion matrix'\n",
    "        else:\n",
    "            title = 'Confusion matrix, without normalization'\n",
    "\n",
    "    # Compute confusion matrix based on true and predicted labels\n",
    "    cm = confusion_matrix(y_true, y_pred)\n",
    "\n",
    "    # Keep only the class names that are used in the data\n",
    "    classes = classes\n",
    "\n",
    "    # If normalization is requested, convert the confusion matrix to percentages\n",
    "    if normalize:\n",
    "        cm = cm.astype('float') / cm.sum(axis=1)[:, np.newaxis]\n",
    "        print(\"Normalized confusion matrix\")\n",
    "    else:\n",
    "        print('Confusion matrix, without normalization')\n",
    "\n",
    "    # Print the confusion matrix (normalized or raw)\n",
    "    print(cm)\n",
    "\n",
    "    # Create a new figure and axis for plotting\n",
    "    fig, ax = plt.subplots()\n",
    "\n",
    "    # Display the confusion matrix as an image\n",
    "    im = ax.imshow(cm, interpolation='nearest', cmap=cmap)\n",
    "\n",
    "    # Add a color bar next to the plot to show scale\n",
    "    ax.figure.colorbar(im, ax=ax)\n",
    "\n",
    "    # Set the x and y ticks to correspond to the number of classes\n",
    "    ax.set(xticks=np.arange(cm.shape[1]),  # Set the x ticks to match number of columns\n",
    "           yticks=np.arange(cm.shape[0]),  # Set the y ticks to match number of rows\n",
    "           # Label x and y ticks with the respective class names\n",
    "           xticklabels=classes, yticklabels=classes,\n",
    "           title=title,  # Set the plot title\n",
    "           ylabel='True label',  # Label for the y-axis\n",
    "           xlabel='Predicted label')  # Label for the x-axis\n",
    "\n",
    "    # Rotate the x-axis tick labels for better readability\n",
    "    plt.setp(ax.get_xticklabels(), rotation=45, ha=\"right\", rotation_mode=\"anchor\")\n",
    "\n",
    "    # Format the values in the confusion matrix. If normalized, format as float; otherwise, as integer\n",
    "    fmt = '.2f' if normalize else 'd'\n",
    "    # Set a threshold to decide text color (white for values above half the max, black otherwise)\n",
    "    thresh = cm.max() / 2.\n",
    "\n",
    "    # Loop through each element of the matrix and annotate the plot with the value\n",
    "    for i in range(cm.shape[0]):\n",
    "        for j in range(cm.shape[1]):\n",
    "            ax.text(j, i, format(cm[i, j], fmt),\n",
    "                    ha=\"center\", va=\"center\",  # Align text to the center of the cell\n",
    "                    color=\"white\" if cm[i, j] > thresh else \"black\")  # Text color based on threshold\n",
    "\n",
    "    # Adjust the layout to fit the plot neatly\n",
    "    fig.tight_layout()\n",
    "\n",
    "    return ax  # Return the axis object for further customization if needed\n"
   ]
  },
  {
   "cell_type": "markdown",
   "metadata": {},
   "source": [
    "## CNN"
   ]
  },
  {
   "cell_type": "code",
   "execution_count": 7,
   "metadata": {},
   "outputs": [
    {
     "name": "stdout",
     "output_type": "stream",
     "text": [
      "Model: \"sequential\"\n",
      "_________________________________________________________________\n",
      "Layer (type)                 Output Shape              Param #   \n",
      "=================================================================\n",
      "conv2d (Conv2D)              (None, 256, 256, 32)      2432      \n",
      "_________________________________________________________________\n",
      "conv2d_1 (Conv2D)            (None, 256, 256, 32)      25632     \n",
      "_________________________________________________________________\n",
      "max_pooling2d (MaxPooling2D) (None, 128, 128, 32)      0         \n",
      "_________________________________________________________________\n",
      "conv2d_2 (Conv2D)            (None, 128, 128, 64)      18496     \n",
      "_________________________________________________________________\n",
      "conv2d_3 (Conv2D)            (None, 128, 128, 64)      36928     \n",
      "_________________________________________________________________\n",
      "max_pooling2d_1 (MaxPooling2 (None, 64, 64, 64)        0         \n",
      "_________________________________________________________________\n",
      "flatten (Flatten)            (None, 262144)            0         \n",
      "_________________________________________________________________\n",
      "dense (Dense)                (None, 256)               67109120  \n",
      "_________________________________________________________________\n",
      "dense_1 (Dense)              (None, 2)                 514       \n",
      "=================================================================\n",
      "Total params: 67,193,122\n",
      "Trainable params: 67,193,122\n",
      "Non-trainable params: 0\n",
      "_________________________________________________________________\n"
     ]
    }
   ],
   "source": [
    "# Importing required layers from the Keras library\n",
    "from tensorflow.keras.models import Sequential\n",
    "from tensorflow.keras.layers import Conv2D, MaxPool2D, Flatten, Dense\n",
    "\n",
    "# Initializing a Sequential model\n",
    "model = Sequential()\n",
    "\n",
    "# Adding the first Convolutional layer with 32 filters, a 5x5 kernel size, \n",
    "# 'Same' padding (to maintain the dimensions), 'relu' activation, \n",
    "# and specifying the input shape (img_height, img_width, 3) for RGB images\n",
    "model.add(Conv2D(filters=32, kernel_size=(5, 5), padding='Same', \n",
    "                 activation='relu', input_shape=(img_height, img_width, 3)))\n",
    "\n",
    "# Adding another Convolutional layer with 32 filters and 5x5 kernel size,\n",
    "# maintaining the same padding and using 'relu' activation\n",
    "model.add(Conv2D(filters=32, kernel_size=(5, 5), padding='Same', \n",
    "                 activation='relu'))\n",
    "\n",
    "# Adding a Max Pooling layer with a 2x2 pool size, reducing the spatial \n",
    "# dimensions by half to reduce complexity and extract important features\n",
    "model.add(MaxPool2D(pool_size=(2, 2)))\n",
    "\n",
    "# Adding the third Convolutional layer with 64 filters and 3x3 kernel size,\n",
    "# with 'Same' padding and 'relu' activation\n",
    "model.add(Conv2D(filters=64, kernel_size=(3, 3), padding='Same', \n",
    "                 activation='relu'))\n",
    "\n",
    "# Adding another Convolutional layer with 64 filters and a 3x3 kernel size,\n",
    "# using 'Same' padding and 'relu' activation again\n",
    "model.add(Conv2D(filters=64, kernel_size=(3, 3), padding='Same', \n",
    "                 activation='relu'))\n",
    "\n",
    "# Adding another Max Pooling layer, reducing spatial dimensions again by half,\n",
    "# with a pool size of 2x2 and strides of 2x2 (for down-sampling)\n",
    "model.add(MaxPool2D(pool_size=(2, 2), strides=(2, 2)))\n",
    "\n",
    "# Flattening the 2D feature maps into a 1D vector to be input to the Dense layer\n",
    "model.add(Flatten())\n",
    "\n",
    "# Adding a fully connected (Dense) layer with 256 units and 'relu' activation\n",
    "# to introduce non-linearity and learn complex patterns\n",
    "model.add(Dense(256, activation='relu'))\n",
    "\n",
    "# Adding the output layer with 2 units and 'softmax' activation for\n",
    "# multi-class classification (assuming 2 classes for the fake/real image)\n",
    "model.add(Dense(2, activation='softmax'))\n",
    "\n",
    "# Summarizing the model to display the architecture and parameters\n",
    "model.summary()\n"
   ]
  },
  {
   "cell_type": "code",
   "execution_count": 8,
   "metadata": {},
   "outputs": [
    {
     "name": "stdout",
     "output_type": "stream",
     "text": [
      "Epoch 1/15\n",
      "3227/3227 [==============================] - 794s 240ms/step - loss: 0.6986 - accuracy: 0.5170 - precision: 0.5170 - recall: 0.5170 - sensitivity_at_specificity: 0.8912 - specificity_at_sensitivity: 0.8912 - val_loss: 0.6957 - val_accuracy: 0.4642 - val_precision: 0.4642 - val_recall: 0.4642 - val_sensitivity_at_specificity: 0.4642 - val_specificity_at_sensitivity: 0.4642\n",
      "Epoch 2/15\n",
      "3227/3227 [==============================] - 550s 171ms/step - loss: 0.6925 - accuracy: 0.5183 - precision: 0.5183 - recall: 0.5183 - sensitivity_at_specificity: 0.7705 - specificity_at_sensitivity: 0.7705 - val_loss: 0.6968 - val_accuracy: 0.4642 - val_precision: 0.4642 - val_recall: 0.4642 - val_sensitivity_at_specificity: 0.4642 - val_specificity_at_sensitivity: 0.4642\n",
      "Epoch 3/15\n",
      "3227/3227 [==============================] - 549s 170ms/step - loss: 0.6926 - accuracy: 0.5183 - precision: 0.5183 - recall: 0.5183 - sensitivity_at_specificity: 0.8997 - specificity_at_sensitivity: 0.8997 - val_loss: 0.6952 - val_accuracy: 0.4642 - val_precision: 0.4642 - val_recall: 0.4642 - val_sensitivity_at_specificity: 0.4642 - val_specificity_at_sensitivity: 0.4642\n",
      "Epoch 4/15\n",
      "3227/3227 [==============================] - 543s 168ms/step - loss: 0.6926 - accuracy: 0.5183 - precision: 0.5183 - recall: 0.5183 - sensitivity_at_specificity: 0.7477 - specificity_at_sensitivity: 0.7477 - val_loss: 0.6966 - val_accuracy: 0.4642 - val_precision: 0.4642 - val_recall: 0.4642 - val_sensitivity_at_specificity: 0.4642 - val_specificity_at_sensitivity: 0.4642\n",
      "Epoch 5/15\n",
      "3227/3227 [==============================] - 546s 169ms/step - loss: 0.6926 - accuracy: 0.5183 - precision: 0.5183 - recall: 0.5183 - sensitivity_at_specificity: 0.7354 - specificity_at_sensitivity: 0.7354 - val_loss: 0.6971 - val_accuracy: 0.4642 - val_precision: 0.4642 - val_recall: 0.4642 - val_sensitivity_at_specificity: 0.4642 - val_specificity_at_sensitivity: 0.4642\n",
      "Epoch 6/15\n",
      "3227/3227 [==============================] - 580s 180ms/step - loss: 0.6925 - accuracy: 0.5183 - precision: 0.5183 - recall: 0.5183 - sensitivity_at_specificity: 0.8862 - specificity_at_sensitivity: 0.8862 - val_loss: 0.6970 - val_accuracy: 0.4642 - val_precision: 0.4642 - val_recall: 0.4642 - val_sensitivity_at_specificity: 0.4642 - val_specificity_at_sensitivity: 0.4642:43 - loss: 0.6924 - accur - ETA: 30s - \n",
      "Epoch 7/15\n",
      "3227/3227 [==============================] - 571s 177ms/step - loss: 0.6926 - accuracy: 0.5183 - precision: 0.5183 - recall: 0.5183 - sensitivity_at_specificity: 0.9070 - specificity_at_sensitivity: 0.9070 - val_loss: 0.6969 - val_accuracy: 0.4642 - val_precision: 0.4642 - val_recall: 0.4642 - val_sensitivity_at_specificity: 0.4642 - val_specificity_at_sensitivity: 0.4642\n",
      "Epoch 8/15\n",
      "3227/3227 [==============================] - 560s 173ms/step - loss: 0.6925 - accuracy: 0.5183 - precision: 0.5183 - recall: 0.5183 - sensitivity_at_specificity: 0.9063 - specificity_at_sensitivity: 0.9063 - val_loss: 0.6971 - val_accuracy: 0.4642 - val_precision: 0.4642 - val_recall: 0.4642 - val_sensitivity_at_specificity: 0.4642 - val_specificity_at_sensitivity: 0.4642\n",
      "Epoch 9/15\n",
      "3227/3227 [==============================] - 571s 177ms/step - loss: 0.6926 - accuracy: 0.5183 - precision: 0.5183 - recall: 0.5183 - sensitivity_at_specificity: 0.8913 - specificity_at_sensitivity: 0.8913 - val_loss: 0.6952 - val_accuracy: 0.4642 - val_precision: 0.4642 - val_recall: 0.4642 - val_sensitivity_at_specificity: 0.4642 - val_specificity_at_sensitivity: 0.4642\n",
      "Epoch 10/15\n",
      "3227/3227 [==============================] - 568s 176ms/step - loss: 0.6925 - accuracy: 0.5183 - precision: 0.5183 - recall: 0.5183 - sensitivity_at_specificity: 0.8837 - specificity_at_sensitivity: 0.8837 - val_loss: 0.6956 - val_accuracy: 0.4642 - val_precision: 0.4642 - val_recall: 0.4642 - val_sensitivity_at_specificity: 0.4642 - val_specificity_at_sensitivity: 0.4642\n",
      "Epoch 11/15\n",
      "3227/3227 [==============================] - 558s 173ms/step - loss: 0.6925 - accuracy: 0.5180 - precision: 0.5180 - recall: 0.5180 - sensitivity_at_specificity: 0.7188 - specificity_at_sensitivity: 0.7188 - val_loss: 0.6957 - val_accuracy: 0.4642 - val_precision: 0.4642 - val_recall: 0.4642 - val_sensitivity_at_specificity: 0.4642 - val_specificity_at_sensitivity: 0.4642\n",
      "Epoch 12/15\n",
      "3227/3227 [==============================] - 558s 173ms/step - loss: 0.6925 - accuracy: 0.5183 - precision: 0.5183 - recall: 0.5183 - sensitivity_at_specificity: 0.7284 - specificity_at_sensitivity: 0.7284 - val_loss: 0.6974 - val_accuracy: 0.4642 - val_precision: 0.4642 - val_recall: 0.4642 - val_sensitivity_at_specificity: 0.4642 - val_specificity_at_sensitivity: 0.4642\n",
      "Epoch 13/15\n",
      "3227/3227 [==============================] - 559s 173ms/step - loss: 0.6925 - accuracy: 0.5183 - precision: 0.5183 - recall: 0.5183 - sensitivity_at_specificity: 0.8519 - specificity_at_sensitivity: 0.8519 - val_loss: 0.6963 - val_accuracy: 0.4642 - val_precision: 0.4642 - val_recall: 0.4642 - val_sensitivity_at_specificity: 0.4642 - val_specificity_at_sensitivity: 0.4642\n",
      "Epoch 14/15\n",
      "3227/3227 [==============================] - 557s 173ms/step - loss: 0.6925 - accuracy: 0.5183 - precision: 0.5183 - recall: 0.5183 - sensitivity_at_specificity: 0.7020 - specificity_at_sensitivity: 0.7020 - val_loss: 0.6969 - val_accuracy: 0.4642 - val_precision: 0.4642 - val_recall: 0.4642 - val_sensitivity_at_specificity: 0.4642 - val_specificity_at_sensitivity: 0.4642\n",
      "Epoch 15/15\n",
      "3227/3227 [==============================] - 374s 116ms/step - loss: 0.6926 - accuracy: 0.5183 - precision: 0.5183 - recall: 0.5183 - sensitivity_at_specificity: 0.7021 - specificity_at_sensitivity: 0.7021 - val_loss: 0.6975 - val_accuracy: 0.4642 - val_precision: 0.4642 - val_recall: 0.4642 - val_sensitivity_at_specificity: 0.4642 - val_specificity_at_sensitivity: 0.4642\n"
     ]
    }
   ],
   "source": [
    "# Compiling the model with 'adam' optimizer and 'categorical_crossentropy' as the loss function\n",
    "# Metrics include accuracy, precision, recall, sensitivity, and specificity for better performance tracking.\n",
    "model.compile(\n",
    "    optimizer=\"adam\",  # Adam optimizer for adaptive learning rate adjustment\n",
    "    loss=\"categorical_crossentropy\",  # Loss function suitable for classification\n",
    "    metrics=['accuracy', precision, recall, sensitivity, specificity]  # Performance metrics\n",
    ")\n",
    "\n",
    "# Fitting the model to the training data\n",
    "# Using 'train_generator' for training data and validating with 'test_generator' over 15 epochs\n",
    "# 'train_generator' provides batches of training data with real-time data augmentation\n",
    "# 'validation_data' specifies the test data generator for evaluating model performance after each epoch\n",
    "hist = model.fit(\n",
    "    train_generator,  # Training data with augmentation\n",
    "    epochs=15,  # Number of epochs to train the model\n",
    "    validation_data=test_generator  # Validation data to assess model performance during training\n",
    ")"
   ]
  },
  {
   "cell_type": "code",
   "execution_count": 9,
   "metadata": {},
   "outputs": [
    {
     "data": {
      "image/png": "[encoded data removed]",
      "text/plain": [
       "<Figure size 432x288 with 2 Axes>"
      ]
     },
     "metadata": {
      "needs_background": "light"
     },
     "output_type": "display_data"
    }
   ],
   "source": [
    "# Create a figure with 2 subplots (stacked vertically)\n",
    "fig, ax = plt.subplots(2, 1)\n",
    "\n",
    "# Plot the training and validation accuracy on the first subplot (ax[0])\n",
    "ax[0].plot(hist.history['accuracy'], color='b', label=\"Training accuracy\")  # Plot training accuracy in blue\n",
    "ax[0].plot(hist.history['val_accuracy'], color='r', label=\"Validation accuracy\")  # Plot validation accuracy in red\n",
    "legend = ax[0].legend(loc='best', shadow=True)  # Display legend for accuracy with the best location and shadow effect\n",
    "\n",
    "# Plot the training and validation loss on the second subplot (ax[1])\n",
    "ax[1].plot(hist.history['loss'], color='b', label=\"Training loss\")  # Plot training loss in blue\n",
    "ax[1].plot(hist.history['val_loss'], color='r', label=\"Validation loss\")  # Plot validation loss in red\n",
    "legend = ax[1].legend(loc='best', shadow=True)  # Display legend for loss with the best location and shadow effect"
   ]
  },
  {
   "cell_type": "code",
   "execution_count": 10,
   "metadata": {},
   "outputs": [
    {
     "data": {
      "image/png": "[encoded data removed]",
      "text/plain": [
       "<Figure size 432x288 with 2 Axes>"
      ]
     },
     "metadata": {
      "needs_background": "light"
     },
     "output_type": "display_data"
    }
   ],
   "source": [
    "fig, ax = plt.subplots(2,1)\n",
    "ax[0].plot(hist.history['precision'], color='b', label=\"Training precision\")\n",
    "ax[0].plot(hist.history['val_precision'], color='r',label=\"Validation precision\")\n",
    "legend = ax[0].legend(loc='best', shadow=True)\n",
    "\n",
    "ax[1].plot(hist.history['loss'], color='b', label=\"Training loss\")\n",
    "ax[1].plot(hist.history['val_loss'], color='r', label=\"validation loss\")\n",
    "legend = ax[1].legend(loc='best', shadow=True)"
   ]
  },
  {
   "cell_type": "code",
   "execution_count": 11,
   "metadata": {},
   "outputs": [
    {
     "data": {
      "image/png": "[encoded data removed]",
      "text/plain": [
       "<Figure size 432x288 with 2 Axes>"
      ]
     },
     "metadata": {
      "needs_background": "light"
     },
     "output_type": "display_data"
    }
   ],
   "source": [
    "# Creating a figure with two subplots (2 rows, 1 column)\n",
    "fig, ax = plt.subplots(2,1)\n",
    "\n",
    "# Plotting the training precision on the first subplot\n",
    "ax[0].plot(hist.history['precision'], color='b', label=\"Training precision\")\n",
    "\n",
    "# Plotting the validation precision on the first subplot\n",
    "ax[0].plot(hist.history['val_precision'], color='r', label=\"Validation precision\")\n",
    "\n",
    "# Adding a legend to the first subplot for precision plots\n",
    "legend = ax[0].legend(loc='best', shadow=True)\n",
    "\n",
    "# Plotting the training loss on the second subplot\n",
    "ax[1].plot(hist.history['loss'], color='b', label=\"Training loss\")\n",
    "\n",
    "# Plotting the validation loss on the second subplot\n",
    "ax[1].plot(hist.history['val_loss'], color='r', label=\"Validation loss\")\n",
    "\n",
    "# Adding a legend to the second subplot for loss plots\n",
    "legend = ax[1].legend(loc='best', shadow=True)"
   ]
  },
  {
   "cell_type": "code",
   "execution_count": 12,
   "metadata": {},
   "outputs": [
    {
     "data": {
      "image/png": "[encoded data removed]",
      "text/plain": [
       "<Figure size 432x288 with 2 Axes>"
      ]
     },
     "metadata": {
      "needs_background": "light"
     },
     "output_type": "display_data"
    }
   ],
   "source": [
    "# Create a figure with two subplots (2 rows, 1 column)\n",
    "fig, ax = plt.subplots(2,1)\n",
    "\n",
    "# Plot the training recall on the first subplot (ax[0])\n",
    "ax[0].plot(hist.history['recall'], color='b', label=\"Training recall\")\n",
    "# Plot the validation recall on the first subplot (ax[0])\n",
    "ax[0].plot(hist.history['val_recall'], color='r', label=\"Validation recall\")\n",
    "# Add a legend to the first subplot, located at the best position, with a shadow effect\n",
    "legend = ax[0].legend(loc='best', shadow=True)\n",
    "\n",
    "# Plot the training loss on the second subplot (ax[1])\n",
    "ax[1].plot(hist.history['loss'], color='b', label=\"Training loss\")\n",
    "# Plot the validation loss on the second subplot (ax[1])\n",
    "ax[1].plot(hist.history['val_loss'], color='r', label=\"Validation loss\")\n",
    "# Add a legend to the second subplot, located at the best position, with a shadow effect\n",
    "legend = ax[1].legend(loc='best', shadow=True)"
   ]
  },
  {
   "cell_type": "code",
   "execution_count": 13,
   "metadata": {},
   "outputs": [
    {
     "data": {
      "image/png": "[encoded data removed]",
      "text/plain": [
       "<Figure size 432x288 with 2 Axes>"
      ]
     },
     "metadata": {
      "needs_background": "light"
     },
     "output_type": "display_data"
    }
   ],
   "source": [
    "# Creating a figure and two subplots stacked vertically (2 rows, 1 column)\n",
    "fig, ax = plt.subplots(2,1)\n",
    "\n",
    "# Plotting training specificity (performance metric) on the first subplot\n",
    "ax[0].plot(hist.history['specificity_at_sensitivity'], color='b', label=\"Training specificity\")\n",
    "# Plotting validation specificity on the same subplot\n",
    "ax[0].plot(hist.history['val_specificity_at_sensitivity'], color='r', label=\"Validation specificity\")\n",
    "# Adding a legend to the first subplot to differentiate between the training and validation specificity\n",
    "legend = ax[0].legend(loc='best', shadow=True)\n",
    "\n",
    "# Plotting training loss on the second subplot\n",
    "ax[1].plot(hist.history['loss'], color='b', label=\"Training loss\")\n",
    "# Plotting validation loss on the same subplot\n",
    "ax[1].plot(hist.history['val_loss'], color='r', label=\"Validation loss\")\n",
    "# Adding a legend to the second subplot to differentiate between the training and validation loss\n",
    "legend = ax[1].legend(loc='best', shadow=True)"
   ]
  },
  {
   "cell_type": "code",
   "execution_count": 14,
   "metadata": {},
   "outputs": [],
   "source": [
    "# Saving the trained CNN model to a file in .h5 format\n",
    "# This allows us to reuse the trained model later without retraining\n",
    "model.save(\"./models/CNN.h5\")"
   ]
  },
  {
   "cell_type": "code",
   "execution_count": 15,
   "metadata": {},
   "outputs": [
    {
     "name": "stderr",
     "output_type": "stream",
     "text": [
      "c:\\Users\\0258\\.conda\\envs\\deepfake\\lib\\site-packages\\keras\\engine\\training.py:2035: UserWarning: `Model.predict_generator` is deprecated and will be removed in a future version. Please use `Model.predict`, which supports generators.\n",
      "  warnings.warn('`Model.predict_generator` is deprecated and '\n"
     ]
    },
    {
     "name": "stdout",
     "output_type": "stream",
     "text": [
      "WARNING:tensorflow:Your input ran out of data; interrupting training. Make sure that your dataset or generator can generate at least `steps_per_epoch * epochs` batches (in this case, 5474 batches). You may need to use the repeat() function when building your dataset.\n",
      "5474/5474 - 17s\n"
     ]
    }
   ],
   "source": [
    "# Retrieve the list of filenames in the test generator\n",
    "filenames = test_generator.filenames\n",
    "\n",
    "# Get the total number of samples in the test set\n",
    "nb_samples = len(filenames)\n",
    "\n",
    "# Use the trained model to make predictions on the test set\n",
    "# 'predict_generator' is used to generate predictions for the entire test set\n",
    "# 'steps' argument is set to the total number of samples to ensure all data is covered\n",
    "# 'verbose=2' provides more detailed output during the prediction process\n",
    "model_predict = model.predict_generator(test_generator, steps=nb_samples, verbose=2)"
   ]
  },
  {
   "cell_type": "code",
   "execution_count": 16,
   "metadata": {},
   "outputs": [
    {
     "name": "stdout",
     "output_type": "stream",
     "text": [
      "Confusion matrix, without normalization\n",
      "[[   0 2933]\n",
      " [   0 2541]]\n"
     ]
    },
    {
     "data": {
      "text/plain": [
       "<AxesSubplot:title={'center':'Confusion matrix'}, xlabel='Predicted label', ylabel='True label'>"
      ]
     },
     "execution_count": 16,
     "metadata": {},
     "output_type": "execute_result"
    },
    {
     "data": {
      "image/png": "[encoded data removed]",
      "text/plain": [
       "<Figure size 432x288 with 2 Axes>"
      ]
     },
     "metadata": {
      "needs_background": "light"
     },
     "output_type": "display_data"
    }
   ],
   "source": [
    "# Extract the true labels from the test data generator\n",
    "y_true = test_generator.classes  # 'classes' attribute gives the true labels for each test sample\n",
    "\n",
    "# Predict the class probabilities using the trained model and convert them to predicted class labels\n",
    "y_pred = model_predict.argmax(axis=1)  # 'argmax' finds the index of the highest probability class (Fake or Real)\n",
    "\n",
    "# Plot the confusion matrix for visualizing the performance of the classifier\n",
    "# The confusion matrix will display the counts of True Positive, True Negative, False Positive, and False Negative\n",
    "plot_confusion_matrix(y_true, y_pred, classes=['Fake', 'Real'], \n",
    "                      title='Confusion matrix')  # 'classes' specifies the class names, and 'title' sets the plot title"
   ]
  },
  {
   "cell_type": "markdown",
   "metadata": {},
   "source": [
    "## VGG16"
   ]
  },
  {
   "cell_type": "code",
   "execution_count": 7,
   "metadata": {},
   "outputs": [
    {
     "name": "stdout",
     "output_type": "stream",
     "text": [
      "Model: \"sequential\"\n",
      "_________________________________________________________________\n",
      "Layer (type)                 Output Shape              Param #   \n",
      "=================================================================\n",
      "vgg16 (Functional)           (None, 8, 8, 512)         14714688  \n",
      "_________________________________________________________________\n",
      "global_average_pooling2d (Gl (None, 512)               0         \n",
      "_________________________________________________________________\n",
      "dense (Dense)                (None, 64)                32832     \n",
      "_________________________________________________________________\n",
      "batch_normalization (BatchNo (None, 64)                256       \n",
      "_________________________________________________________________\n",
      "dropout (Dropout)            (None, 64)                0         \n",
      "_________________________________________________________________\n",
      "dense_1 (Dense)              (None, 2)                 130       \n",
      "=================================================================\n",
      "Total params: 14,747,906\n",
      "Trainable params: 14,747,778\n",
      "Non-trainable params: 128\n",
      "_________________________________________________________________\n"
     ]
    }
   ],
   "source": [
    "# Load the pre-trained VGG16 model without the top classification layer (include_top=False).\n",
    "# Weights are pre-trained on ImageNet, and the input shape is set to (img_height, img_width, 3) \n",
    "# to match the image dimensions for this task.\n",
    "base_model1 = tf.keras.applications.VGG16(input_shape=(img_height, img_width, 3), include_top=False,\n",
    "                                          weights='imagenet')\n",
    "\n",
    "# Initialize a Sequential model\n",
    "model1 = Sequential()\n",
    "\n",
    "# Add the VGG16 base model to the sequential model. \n",
    "# This will be used for feature extraction, with all convolutional layers pre-trained on ImageNet.\n",
    "model1.add(base_model1)\n",
    "\n",
    "# Add a Global Average Pooling layer. This converts the 2D feature maps into a single feature vector per image.\n",
    "model1.add(GlobalAveragePooling2D())\n",
    "\n",
    "# Add a Dense (fully connected) layer with 64 units and ReLU activation function for learning complex features.\n",
    "model1.add(Dense(64, activation='relu'))\n",
    "\n",
    "# Add a BatchNormalization layer to normalize the activations and speed up convergence.\n",
    "model1.add(BatchNormalization())\n",
    "\n",
    "# Add a Dropout layer with a rate of 0.2 to reduce overfitting by randomly dropping neurons during training.\n",
    "model1.add(Dropout(0.2))\n",
    "\n",
    "# Add the final Dense output layer with 2 units (for binary classification) and sigmoid activation.\n",
    "# Sigmoid is used to output probabilities for each class.\n",
    "model1.add(Dense(2, activation='sigmoid'))\n",
    "\n",
    "# Print a summary of the model architecture, including the layers and their output shapes.\n",
    "model1.summary()"
   ]
  },
  {
   "cell_type": "code",
   "execution_count": 8,
   "metadata": {},
   "outputs": [
    {
     "name": "stdout",
     "output_type": "stream",
     "text": [
      "Epoch 1/15\n",
      "3227/3227 [==============================] - 1006s 307ms/step - loss: 0.6772 - accuracy: 0.5833 - precision: 0.5550 - recall: 0.5450 - sensitivity_at_specificity: 0.9390 - specificity_at_sensitivity: 0.9364 - val_loss: 1.4824 - val_accuracy: 0.4750 - val_precision: 0.4928 - val_recall: 0.5930 - val_sensitivity_at_specificity: 0.9198 - val_specificity_at_sensitivity: 0.8533\n",
      "Epoch 2/15\n",
      "3227/3227 [==============================] - 857s 265ms/step - loss: 0.6341 - accuracy: 0.6528 - precision: 0.6332 - recall: 0.5184 - sensitivity_at_specificity: 0.9610 - specificity_at_sensitivity: 0.9644 - val_loss: 2.0221 - val_accuracy: 0.4642 - val_precision: 0.4673 - val_recall: 0.4744 - val_sensitivity_at_specificity: 0.9152 - val_specificity_at_sensitivity: 0.8782\n",
      "Epoch 3/15\n",
      "3227/3227 [==============================] - 861s 267ms/step - loss: 0.6538 - accuracy: 0.5967 - precision: 0.5908 - recall: 0.5796 - sensitivity_at_specificity: 0.9692 - specificity_at_sensitivity: 0.9695 - val_loss: 0.6956 - val_accuracy: 0.4642 - val_precision: 0.4642 - val_recall: 0.4642 - val_sensitivity_at_specificity: 0.4642 - val_specificity_at_sensitivity: 0.4642\n",
      "Epoch 4/15\n",
      "3227/3227 [==============================] - 859s 266ms/step - loss: 0.6929 - accuracy: 0.5141 - precision: 0.5150 - recall: 0.4387 - sensitivity_at_specificity: 0.8979 - specificity_at_sensitivity: 0.8949 - val_loss: 0.6962 - val_accuracy: 0.4642 - val_precision: 0.4642 - val_recall: 0.4642 - val_sensitivity_at_specificity: 0.4642 - val_specificity_at_sensitivity: 0.4642\n",
      "Epoch 5/15\n",
      "3227/3227 [==============================] - 853s 264ms/step - loss: 0.6928 - accuracy: 0.5174 - precision: 0.5139 - recall: 0.5725 - sensitivity_at_specificity: 0.9032 - specificity_at_sensitivity: 0.8037 - val_loss: 0.6952 - val_accuracy: 0.4642 - val_precision: 0.4642 - val_recall: 0.4642 - val_sensitivity_at_specificity: 0.4642 - val_specificity_at_sensitivity: 0.4642\n",
      "Epoch 6/15\n",
      "3227/3227 [==============================] - 965s 299ms/step - loss: 0.6926 - accuracy: 0.5173 - precision: 0.5156 - recall: 0.5557 - sensitivity_at_specificity: 0.7518 - specificity_at_sensitivity: 0.8132 - val_loss: 0.6949 - val_accuracy: 0.4642 - val_precision: 0.4642 - val_recall: 0.4642 - val_sensitivity_at_specificity: 0.4642 - val_specificity_at_sensitivity: 0.4642\n",
      "Epoch 7/15\n",
      "3227/3227 [==============================] - 909s 282ms/step - loss: 0.6926 - accuracy: 0.5176 - precision: 0.5178 - recall: 0.5152 - sensitivity_at_specificity: 0.7364 - specificity_at_sensitivity: 0.6577 - val_loss: 0.6978 - val_accuracy: 0.4642 - val_precision: 0.4642 - val_recall: 0.4642 - val_sensitivity_at_specificity: 0.4642 - val_specificity_at_sensitivity: 0.4642\n",
      "Epoch 8/15\n",
      "3227/3227 [==============================] - 856s 265ms/step - loss: 0.6926 - accuracy: 0.5179 - precision: 0.5175 - recall: 0.5283 - sensitivity_at_specificity: 0.8205 - specificity_at_sensitivity: 0.7610 - val_loss: 0.6957 - val_accuracy: 0.4642 - val_precision: 0.4642 - val_recall: 0.4642 - val_sensitivity_at_specificity: 0.4642 - val_specificity_at_sensitivity: 0.4642\n",
      "Epoch 9/15\n",
      "3227/3227 [==============================] - 865s 268ms/step - loss: 0.6926 - accuracy: 0.5181 - precision: 0.5177 - recall: 0.5148 - sensitivity_at_specificity: 0.8921 - specificity_at_sensitivity: 0.6455 - val_loss: 0.6969 - val_accuracy: 0.4642 - val_precision: 0.4642 - val_recall: 0.4642 - val_sensitivity_at_specificity: 0.4642 - val_specificity_at_sensitivity: 0.4642\n",
      "Epoch 10/15\n",
      "3227/3227 [==============================] - 867s 269ms/step - loss: 0.6926 - accuracy: 0.5183 - precision: 0.5181 - recall: 0.4623 - sensitivity_at_specificity: 0.7689 - specificity_at_sensitivity: 0.7793 - val_loss: 0.6956 - val_accuracy: 0.4642 - val_precision: 0.0000e+00 - val_recall: 0.0000e+00 - val_sensitivity_at_specificity: 0.4642 - val_specificity_at_sensitivity: 0.4642\n",
      "Epoch 11/15\n",
      "3227/3227 [==============================] - 860s 267ms/step - loss: 0.6926 - accuracy: 0.5179 - precision: 0.5180 - recall: 0.2933 - sensitivity_at_specificity: 0.7603 - specificity_at_sensitivity: 0.8085 - val_loss: 0.6937 - val_accuracy: 0.4642 - val_precision: 0.0000e+00 - val_recall: 0.0000e+00 - val_sensitivity_at_specificity: 0.4642 - val_specificity_at_sensitivity: 0.4642\n",
      "Epoch 12/15\n",
      "3227/3227 [==============================] - 861s 267ms/step - loss: 0.6926 - accuracy: 0.5177 - precision: 0.5188 - recall: 0.3747 - sensitivity_at_specificity: 0.6440 - specificity_at_sensitivity: 0.8810 - val_loss: 0.6948 - val_accuracy: 0.4642 - val_precision: 0.4642 - val_recall: 0.4642 - val_sensitivity_at_specificity: 0.4642 - val_specificity_at_sensitivity: 0.4642\n",
      "Epoch 13/15\n",
      "3227/3227 [==============================] - 863s 267ms/step - loss: 0.6926 - accuracy: 0.5179 - precision: 0.5178 - recall: 0.4885 - sensitivity_at_specificity: 0.8628 - specificity_at_sensitivity: 0.7385 - val_loss: 0.7007 - val_accuracy: 0.4642 - val_precision: 0.4642 - val_recall: 0.4642 - val_sensitivity_at_specificity: 0.4642 - val_specificity_at_sensitivity: 0.4642\n",
      "Epoch 14/15\n",
      "3227/3227 [==============================] - 861s 267ms/step - loss: 0.6926 - accuracy: 0.5178 - precision: 0.5158 - recall: 0.5309 - sensitivity_at_specificity: 0.8558 - specificity_at_sensitivity: 0.8456 - val_loss: 0.6965 - val_accuracy: 0.4642 - val_precision: 0.4642 - val_recall: 0.4642 - val_sensitivity_at_specificity: 0.4642 - val_specificity_at_sensitivity: 0.4642\n",
      "Epoch 15/15\n",
      "2866/3227 [=========================>....] - ETA: 1:36 - loss: 0.6926 - accuracy: 0.5179 - precision: 0.5174 - recall: 0.5205 - sensitivity_at_specificity: 0.7018 - specificity_at_sensitivity: 0.6836"
     ]
    }
   ],
   "source": [
    "# Compile the VGG16 model (model1) using the Adam optimizer\n",
    "# Loss function: Categorical Crossentropy for multi-class classification\n",
    "# Metrics: Accuracy, Precision, Recall, Sensitivity, and Specificity to evaluate performance\n",
    "model1.compile(optimizer=\"adam\", \n",
    "               loss=\"categorical_crossentropy\", \n",
    "               metrics=['accuracy', precision, recall, sensitivity, specificity])\n",
    "\n",
    "# Train the model on the training data (train_generator) for 15 epochs\n",
    "# Validate the model's performance using the test data (test_generator) after each epoch\n",
    "hist1 = model1.fit(train_generator, epochs=15, validation_data=test_generator)\n",
    "\n",
    "# Save the trained VGG16 model to a file (vgg16.h5) in the 'models' directory for later use\n",
    "model1.save(\"./models/vgg16.h5\")"
   ]
  },
  {
   "cell_type": "code",
   "execution_count": null,
   "metadata": {},
   "outputs": [],
   "source": [
    "# Create a figure with two subplots (one for accuracy and one for loss)\n",
    "fig, ax = plt.subplots(2, 1)\n",
    "\n",
    "# Plot training and validation accuracy on the first subplot\n",
    "ax[0].plot(hist1.history['accuracy'], color='b', label=\"Training accuracy\")  # Plot training accuracy in blue\n",
    "ax[0].plot(hist1.history['val_accuracy'], color='r', label=\"Validation accuracy\")  # Plot validation accuracy in red\n",
    "legend = ax[0].legend(loc='best', shadow=True)  # Add a legend to the first subplot showing the labels with shadow\n",
    "\n",
    "# Plot training and validation loss on the second subplot\n",
    "ax[1].plot(hist1.history['loss'], color='b', label=\"Training loss\")  # Plot training loss in blue\n",
    "ax[1].plot(hist1.history['val_loss'], color='r', label=\"Validation loss\")  # Plot validation loss in red\n",
    "legend = ax[1].legend(loc='best', shadow=True)  # Add a legend to the second subplot showing the labels with shadow"
   ]
  },
  {
   "cell_type": "code",
   "execution_count": null,
   "metadata": {},
   "outputs": [],
   "source": [
    "# Create a figure and two subplots (stacked vertically)\n",
    "fig, ax = plt.subplots(2,1)\n",
    "\n",
    "# Plot the training and validation precision on the first subplot\n",
    "ax[0].plot(hist1.history['precision'], color='b', label=\"Training precision\")  # Plot training precision in blue\n",
    "ax[0].plot(hist1.history['val_precision'], color='r',label=\"Validation precision\")  # Plot validation precision in red\n",
    "legend = ax[0].legend(loc='best', shadow=True)  # Add legend to the first subplot\n",
    "\n",
    "# Plot the training and validation loss on the second subplot\n",
    "ax[1].plot(hist1.history['loss'], color='b', label=\"Training loss\")  # Plot training loss in blue\n",
    "ax[1].plot(hist.history['val_loss'], color='r', label=\"validation loss\")  # Plot validation loss in red\n",
    "legend = ax[1].legend(loc='best', shadow=True)  # Add legend to the second subplot"
   ]
  },
  {
   "cell_type": "code",
   "execution_count": null,
   "metadata": {},
   "outputs": [],
   "source": [
    "# Creating a figure and two subplots arranged vertically (2 rows, 1 column)\n",
    "fig, ax = plt.subplots(2,1)\n",
    "\n",
    "# Plotting training recall (y-axis) over epochs (x-axis) in blue on the first subplot\n",
    "ax[0].plot(hist1.history['recall'], color='b', label=\"Training recall\")\n",
    "\n",
    "# Plotting validation recall (y-axis) over epochs (x-axis) in red on the first subplot\n",
    "ax[0].plot(hist1.history['val_recall'], color='r', label=\"Validation recall\")\n",
    "\n",
    "# Adding a legend to the first subplot to identify the blue and red lines (training/validation recall)\n",
    "legend = ax[0].legend(loc='best', shadow=True)\n",
    "\n",
    "# Plotting training loss (y-axis) over epochs (x-axis) in blue on the second subplot\n",
    "ax[1].plot(hist1.history['loss'], color='b', label=\"Training loss\")\n",
    "\n",
    "# Plotting validation loss (y-axis) over epochs (x-axis) in red on the second subplot\n",
    "ax[1].plot(hist1.history['val_loss'], color='r', label=\"validation loss\")\n",
    "\n",
    "# Adding a legend to the second subplot to identify the blue and red lines (training/validation loss)\n",
    "legend = ax[1].legend(loc='best', shadow=True)"
   ]
  },
  {
   "cell_type": "code",
   "execution_count": null,
   "metadata": {},
   "outputs": [],
   "source": [
    "# Create a figure with 2 subplots (2 rows, 1 column)\n",
    "fig, ax = plt.subplots(2, 1)\n",
    "\n",
    "# Plot the training sensitivity at specific specificity on the first subplot (ax[0])\n",
    "ax[0].plot(hist1.history['sensitivity_at_specificity'], color='b', label=\"Training sensitivity\")\n",
    "\n",
    "# Plot the validation sensitivity at specific specificity on the first subplot (ax[0])\n",
    "ax[0].plot(hist1.history['val_sensitivity_at_specificity'], color='r', label=\"Validation sensitivity\")\n",
    "\n",
    "# Add a legend to the first subplot, positioned at the best location, with shadow effect\n",
    "legend = ax[0].legend(loc='best', shadow=True)\n",
    "\n",
    "# Plot the training loss on the second subplot (ax[1])\n",
    "ax[1].plot(hist1.history['loss'], color='b', label=\"Training loss\")\n",
    "\n",
    "# Plot the validation loss on the second subplot (ax[1])\n",
    "ax[1].plot(hist1.history['val_loss'], color='r', label=\"Validation loss\")\n",
    "\n",
    "# Add a legend to the second subplot, positioned at the best location, with shadow effect\n",
    "legend = ax[1].legend(loc='best', shadow=True)"
   ]
  },
  {
   "cell_type": "code",
   "execution_count": null,
   "metadata": {},
   "outputs": [],
   "source": [
    "# Create a figure with 2 subplots arranged vertically (2 rows, 1 column)\n",
    "fig, ax = plt.subplots(2, 1)\n",
    "\n",
    "# Plot the training specificity on the first subplot (ax[0])\n",
    "# 'specificity_at_sensitivity' refers to the metric tracked during training\n",
    "ax[0].plot(hist1.history['specificity_at_sensitivity'], color='b', label=\"Training specificity\")\n",
    "\n",
    "# Plot the validation specificity on the first subplot (ax[0])\n",
    "# 'val_specificity_at_sensitivity' refers to the metric tracked during validation\n",
    "ax[0].plot(hist1.history['val_specificity_at_sensitivity'], color='r', label=\"Validation specificity\")\n",
    "\n",
    "# Add a legend to the first subplot to differentiate between the training and validation lines\n",
    "legend = ax[0].legend(loc='best', shadow=True)\n",
    "\n",
    "# Plot the training loss on the second subplot (ax[1])\n",
    "# 'loss' refers to the loss tracked during training\n",
    "ax[1].plot(hist1.history['loss'], color='b', label=\"Training loss\")\n",
    "\n",
    "# Plot the validation loss on the second subplot (ax[1])\n",
    "# 'val_loss' refers to the loss tracked during validation\n",
    "ax[1].plot(hist1.history['val_loss'], color='r', label=\"validation loss\")\n",
    "\n",
    "# Add a legend to the second subplot to differentiate between the training and validation lines\n",
    "legend = ax[1].legend(loc='best', shadow=True)\n"
   ]
  },
  {
   "cell_type": "code",
   "execution_count": null,
   "metadata": {},
   "outputs": [],
   "source": [
    "# Extracting the filenames from the test_generator, which contains the file paths of the images being processed\n",
    "filenames = test_generator.filenames\n",
    "\n",
    "# Calculating the total number of samples (images) in the test set\n",
    "nb_samples = len(filenames)\n",
    "\n",
    "# Using the trained model (model1) to make predictions on the test set\n",
    "# predict_generator is used here to generate predictions for each image in the test set\n",
    "# 'steps' is set to the number of samples to ensure that all images are processed\n",
    "# verbose=2 provides detailed output during the prediction process\n",
    "model1_predict = model1.predict_generator(test_generator, steps=nb_samples, verbose=2)"
   ]
  },
  {
   "cell_type": "code",
   "execution_count": null,
   "metadata": {},
   "outputs": [],
   "source": [
    "# Get the true labels from the test generator\n",
    "# These are the actual classes (0 or 1) for each sample in the test set\n",
    "y_true = test_generator.classes\n",
    "\n",
    "# Get the predicted labels from the model's predictions\n",
    "# Using argmax to get the index of the maximum predicted value (0 for 'Fake' or 1 for 'Real')\n",
    "y_pred = model1_predict.argmax(axis=1)\n",
    "\n",
    "# Plot the confusion matrix to evaluate the classification results\n",
    "# The confusion matrix compares true labels (y_true) with predicted labels (y_pred)\n",
    "# 'classes' specifies the labels for the two categories: 'Fake' and 'Real'\n",
    "# 'title' sets the title of the confusion matrix plot\n",
    "plot_confusion_matrix(y_true, y_pred, classes=['Fake', 'Real'], title='Confusion matrix')"
   ]
  },
  {
   "cell_type": "markdown",
   "metadata": {},
   "source": [
    "## MOBILENET"
   ]
  },
  {
   "cell_type": "code",
   "execution_count": null,
   "metadata": {},
   "outputs": [],
   "source": [
    "# Load the pre-trained MobileNet model without the top layer (classification head)\n",
    "# The input shape is specified according to the image height and width, with 3 channels (RGB)\n",
    "# The weights are initialized from the ImageNet dataset\n",
    "base_model = tf.keras.applications.MobileNet(input_shape=(img_height, img_width, 3), include_top=False,\n",
    "                                             weights='imagenet')\n",
    "\n",
    "# Initialize a sequential model\n",
    "model8 = Sequential()\n",
    "\n",
    "# Add the base MobileNet model to the sequential model\n",
    "# This will serve as the feature extractor\n",
    "model8.add(base_model)\n",
    "\n",
    "# Add a Global Average Pooling layer to reduce the spatial dimensions of the feature maps\n",
    "model8.add(GlobalAveragePooling2D())\n",
    "\n",
    "# Add a fully connected dense layer with 64 units and ReLU activation for further learning\n",
    "model8.add(Dense(64, activation='relu'))\n",
    "\n",
    "# Add a Batch Normalization layer to stabilize and speed up training\n",
    "model8.add(BatchNormalization())\n",
    "\n",
    "# Add a Dropout layer with a 20% dropout rate to prevent overfitting\n",
    "model8.add(Dropout(0.2))\n",
    "\n",
    "# Add the final dense layer with 2 units and sigmoid activation for binary classification (e.g., Fake or Real)\n",
    "model8.add(Dense(2, activation='sigmoid'))\n",
    "\n",
    "# Print the summary of the model to display the architecture and parameter details\n",
    "model8.summary()"
   ]
  },
  {
   "cell_type": "code",
   "execution_count": null,
   "metadata": {},
   "outputs": [],
   "source": [
    "# Compiling the model using the Adam optimizer\n",
    "# Loss function is categorical_crossentropy, used for multi-class classification\n",
    "# Metrics to be monitored during training: accuracy, precision, recall, sensitivity, and specificity\n",
    "model8.compile(optimizer=\"adam\", \n",
    "               loss=\"categorical_crossentropy\", \n",
    "               metrics=['accuracy', precision, recall, sensitivity, specificity])\n",
    "\n",
    "# Training the model for 15 epochs using the train data generator and validating on the test data\n",
    "hist8 = model8.fit(train_generator, \n",
    "                   epochs=15, \n",
    "                   validation_data=test_generator)\n",
    "\n",
    "# Saving the trained model in .h5 format for later use\n",
    "model8.save(\"./models/mobilenet.h5\")"
   ]
  },
  {
   "cell_type": "code",
   "execution_count": null,
   "metadata": {},
   "outputs": [],
   "source": [
    "# Create a figure and two subplots arranged vertically (2 rows, 1 column)\n",
    "fig, ax = plt.subplots(2,1)\n",
    "\n",
    "# Plot training and validation accuracy on the first subplot (ax[0])\n",
    "ax[0].plot(hist8.history['accuracy'], color='b', label=\"Training accuracy\")  # Plot training accuracy in blue\n",
    "ax[0].plot(hist8.history['val_accuracy'], color='r', label=\"Validation accuracy\")  # Plot validation accuracy in red\n",
    "legend = ax[0].legend(loc='best', shadow=True)  # Add a legend for the accuracy plot in the best location\n",
    "\n",
    "# Plot training and validation loss on the second subplot (ax[1])\n",
    "ax[1].plot(hist8.history['loss'], color='b', label=\"Training loss\")  # Plot training loss in blue\n",
    "ax[1].plot(hist8.history['val_loss'], color='r', label=\"Validation loss\", axes=ax[1])  # Plot validation loss in red\n",
    "legend = ax[1].legend(loc='best', shadow=True)  # Add a legend for the loss plot in the best location"
   ]
  },
  {
   "cell_type": "code",
   "execution_count": null,
   "metadata": {},
   "outputs": [],
   "source": [
    "# Creating a figure with 2 subplots (one for precision and one for loss)\n",
    "fig, ax = plt.subplots(2,1)\n",
    "\n",
    "# Plotting training precision on the first subplot\n",
    "ax[0].plot(hist8.history['precision'], color='b', label=\"Training precision\")\n",
    "# Plotting validation precision on the first subplot\n",
    "ax[0].plot(hist8.history['val_precision'], color='r', label=\"Validation precision\")\n",
    "# Adding a legend to the first subplot for better visualization\n",
    "legend = ax[0].legend(loc='best', shadow=True)\n",
    "\n",
    "# Plotting training loss on the second subplot\n",
    "ax[1].plot(hist8.history['loss'], color='b', label=\"Training loss\")\n",
    "# Plotting validation loss on the second subplot\n",
    "ax[1].plot(hist8.history['val_loss'], color='r', label=\"Validation loss\", axes=ax[1])\n",
    "# Adding a legend to the second subplot for better visualization\n",
    "legend = ax[1].legend(loc='best', shadow=True)"
   ]
  },
  {
   "cell_type": "code",
   "execution_count": null,
   "metadata": {},
   "outputs": [],
   "source": [
    "# Create a figure with two subplots (2 rows, 1 column) for recall and loss\n",
    "fig, ax = plt.subplots(2,1)\n",
    "\n",
    "# Plot training recall on the first subplot (ax[0]) in blue\n",
    "ax[0].plot(hist8.history['recall'], color='b', label=\"Training recall\")\n",
    "\n",
    "# Plot validation recall on the first subplot (ax[0]) in red\n",
    "ax[0].plot(hist8.history['val_recall'], color='r', label=\"Validation recall\")\n",
    "\n",
    "# Add a legend to the first subplot to label training and validation recall\n",
    "legend = ax[0].legend(loc='best', shadow=True)\n",
    "\n",
    "# Plot training loss on the second subplot (ax[1]) in blue\n",
    "ax[1].plot(hist8.history['loss'], color='b', label=\"Training loss\")\n",
    "\n",
    "# Plot validation loss on the second subplot (ax[1]) in red\n",
    "ax[1].plot(hist8.history['val_loss'], color='r', label=\"Validation loss\")\n",
    "\n",
    "# Add a legend to the second subplot to label training and validation loss\n",
    "legend = ax[1].legend(loc='best', shadow=True)"
   ]
  },
  {
   "cell_type": "code",
   "execution_count": null,
   "metadata": {},
   "outputs": [],
   "source": [
    "# Create a figure with 2 subplots (one for sensitivity and one for loss)\n",
    "fig, ax = plt.subplots(2,1)\n",
    "\n",
    "# Plot the training sensitivity at a specific specificity threshold on the first subplot\n",
    "ax[0].plot(hist8.history['sensitivity_at_specificity'], color='b', label=\"Training sensitivity\")\n",
    "\n",
    "# Plot the validation sensitivity at a specific specificity threshold on the first subplot\n",
    "ax[0].plot(hist8.history['val_sensitivity_at_specificity'], color='r', label=\"Validation sensitivity\")\n",
    "\n",
    "# Add a legend to the first subplot for better visualization of the lines\n",
    "legend = ax[0].legend(loc='best', shadow=True)\n",
    "\n",
    "# Plot the training loss on the second subplot\n",
    "ax[1].plot(hist8.history['loss'], color='b', label=\"Training loss\")\n",
    "\n",
    "# Plot the validation loss on the second subplot\n",
    "ax[1].plot(hist8.history['val_loss'], color='r', label=\"Validation loss\")\n",
    "\n",
    "# Add a legend to the second subplot for better visualization of the lines\n",
    "legend = ax[1].legend(loc='best', shadow=True)"
   ]
  },
  {
   "cell_type": "code",
   "execution_count": null,
   "metadata": {},
   "outputs": [],
   "source": [
    "# Creating a figure with two subplots (2 rows, 1 column)\n",
    "fig, ax = plt.subplots(2, 1)\n",
    "\n",
    "# Plotting training specificity on the first subplot\n",
    "ax[0].plot(hist8.history['specificity_at_sensitivity'], color='b', label=\"Training specificity\")\n",
    "# Plotting validation specificity on the first subplot\n",
    "ax[0].plot(hist8.history['val_specificity_at_sensitivity'], color='r', label=\"Validation specificity\")\n",
    "# Adding a legend to the first subplot to differentiate training and validation lines\n",
    "legend = ax[0].legend(loc='best', shadow=True)\n",
    "\n",
    "# Plotting training loss on the second subplot\n",
    "ax[1].plot(hist8.history['loss'], color='b', label=\"Training loss\")\n",
    "# Plotting validation loss on the second subplot\n",
    "ax[1].plot(hist8.history['val_loss'], color='r', label=\"Validation loss\", axes=ax[1])\n",
    "# Adding a legend to the second subplot to differentiate training and validation lines\n",
    "legend = ax[1].legend(loc='best', shadow=True)"
   ]
  },
  {
   "cell_type": "code",
   "execution_count": null,
   "metadata": {},
   "outputs": [],
   "source": [
    "# Getting the filenames from the test data generator\n",
    "filenames = test_generator.filenames\n",
    "\n",
    "# Calculating the number of samples in the test set\n",
    "nb_samples = len(filenames)\n",
    "\n",
    "# Generating predictions for the test set using the trained model (model1)\n",
    "# The predictions are made for the entire test set, and verbose=2 shows detailed progress information\n",
    "model1_predict = model1.predict_generator(test_generator, steps=nb_samples, verbose=2)"
   ]
  },
  {
   "cell_type": "code",
   "execution_count": null,
   "metadata": {},
   "outputs": [],
   "source": [
    "# 'y_true' contains the true class labels from the test set, extracted from the generator\n",
    "y_true = test_generator.classes\n",
    "\n",
    "# 'y_pred' contains the predicted class labels, derived from the model's predictions\n",
    "# Using 'argmax' to convert the predicted probabilities to class labels (0 or 1)\n",
    "y_pred = model1_predict.argmax(axis=1)\n",
    "\n",
    "# Plotting the confusion matrix to visualize the performance of the model\n",
    "# 'classes' defines the class labels, i.e., 'Fake' and 'Real'\n",
    "# The 'title' parameter specifies the title of the confusion matrix plot\n",
    "plot_confusion_matrix(y_true, y_pred, classes=['Fake', 'Real'], \n",
    "                      title='Confusion matrix')"
   ]
  }
 ],
 "metadata": {
  "kernelspec": {
   "display_name": "Python 3",
   "language": "python",
   "name": "python3"
  },
  "language_info": {
   "codemirror_mode": {
    "name": "ipython",
    "version": 3
   },
   "file_extension": ".py",
   "mimetype": "text/x-python",
   "name": "python",
   "nbconvert_exporter": "python",
   "pygments_lexer": "ipython3",
   "version": "3.10.8"
  }
 },
 "nbformat": 4,
 "nbformat_minor": 2
}
